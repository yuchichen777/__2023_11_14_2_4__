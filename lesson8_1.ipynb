{
 "cells": [
  {
   "cell_type": "code",
   "execution_count": 1,
   "metadata": {},
   "outputs": [
    {
     "name": "stdout",
     "output_type": "stream",
     "text": [
      "5的平方是:25\n",
      "5的平方是:25\n",
      "程式結束\n"
     ]
    }
   ],
   "source": [
    "while(True):\n",
    "    a=input(\"請輸入整數，輸入'q','Q','quit','Quit','QUIT'離開:\")\n",
    "    if(a==\"q\" or a==\"Q\" or a==\"quit\" or a==\"Quit\" or a==\"QUIT\"):\n",
    "        break\n",
    "\n",
    "    try:\n",
    "        a=int(a)\n",
    "    except:\n",
    "        print(f\"{a}格式錯誤\")\n",
    "        continue\n",
    "    \n",
    "    if(a%2==1):\n",
    "        print(f\"{a}的平方是:{a**2}\")\n",
    "    else:\n",
    "        print(\"不做任何事\")\n",
    "\n",
    "print(\"程式結束\")"
   ]
  },
  {
   "cell_type": "code",
   "execution_count": 2,
   "metadata": {},
   "outputs": [],
   "source": [
    "import math\n",
    "#1個參數,有傳出值\n",
    "def circle_area(radius):\n",
    "    area = radius ** 2 * math.pi\n",
    "    return area"
   ]
  },
  {
   "cell_type": "code",
   "execution_count": 3,
   "metadata": {},
   "outputs": [
    {
     "name": "stdout",
     "output_type": "stream",
     "text": [
      "請輸入半徑:5.0\n",
      "半徑5.0,圓面積是78.53981633974483\n"
     ]
    }
   ],
   "source": [
    "import pyinputplus as pyip\n",
    "radius = pyip.inputFloat(\"請輸入半徑:\")\n",
    "print(radius)\n",
    "area = circle_area(radius)\n",
    "print(f\"半徑{radius},圓面積是{area}\")"
   ]
  },
  {
   "cell_type": "code",
   "execution_count": 5,
   "metadata": {},
   "outputs": [
    {
     "data": {
      "text/plain": [
       "33.0"
      ]
     },
     "execution_count": 5,
     "metadata": {},
     "output_type": "execute_result"
    }
   ],
   "source": [
    "#梯形面積\n",
    "\n",
    "def area(top,bottom,height):\n",
    "    return (top+bottom) * height / 2\n",
    "\n",
    "#引數值的呼叫,需要依照順序\n",
    "area(3.3,8.7,5.5)"
   ]
  },
  {
   "cell_type": "code",
   "execution_count": 6,
   "metadata": {},
   "outputs": [
    {
     "data": {
      "text/plain": [
       "33.0"
      ]
     },
     "execution_count": 6,
     "metadata": {},
     "output_type": "execute_result"
    }
   ],
   "source": [
    "#引數名稱的呼叫\n",
    "area(top=3.3,bottom=8.7,height=5.5)\n",
    "\n",
    "#引數名稱的呼叫,可以不依照順序\n",
    "area(height=5.5,top=3.3,bottom=8.7)"
   ]
  },
  {
   "cell_type": "code",
   "execution_count": 7,
   "metadata": {},
   "outputs": [
    {
     "data": {
      "text/plain": [
       "33.0"
      ]
     },
     "execution_count": 7,
     "metadata": {},
     "output_type": "execute_result"
    }
   ],
   "source": [
    "#混合呼叫\n",
    "#前面要使引數值呼叫,後面要用引數名稱\n",
    "\n",
    "area(3.3,bottom=8.7,height=5.5)\n",
    "area(3.3,height=5.5,bottom=8.7)"
   ]
  }
 ],
 "metadata": {
  "kernelspec": {
   "display_name": "Python 3",
   "language": "python",
   "name": "python3"
  },
  "language_info": {
   "codemirror_mode": {
    "name": "ipython",
    "version": 3
   },
   "file_extension": ".py",
   "mimetype": "text/x-python",
   "name": "python",
   "nbconvert_exporter": "python",
   "pygments_lexer": "ipython3",
   "version": "3.10.13"
  }
 },
 "nbformat": 4,
 "nbformat_minor": 2
}
