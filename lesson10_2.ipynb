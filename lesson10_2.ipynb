{
 "cells": [
  {
   "cell_type": "code",
   "execution_count": null,
   "metadata": {},
   "outputs": [],
   "source": [
    "with open('names.txt',mode='r',encoding='utf-8') as file:\n",
    "    names:str = file.read()\n",
    "\n",
    "nameList:list[str] = names.split('\\n')\n",
    "\n",
    "for name in nameList:\n",
    "    print(name)"
   ]
  },
  {
   "cell_type": "code",
   "execution_count": 2,
   "metadata": {},
   "outputs": [
    {
     "name": "stdout",
     "output_type": "stream",
     "text": [
      "命名選取器(請輸入1~10)您有以下的建議名字:\n",
      "['陳倩妮', '蘇凡菁', '張牧聿', '吳孟穎', '陳冠竹']\n"
     ]
    }
   ],
   "source": [
    "import random\n",
    "import pyinputplus as pyip\n",
    "\n",
    "numbers:int = pyip.inputInt(\"命名選取器(請輸入1~10)\",min=1,max=10)\n",
    "print(\"您有以下的建議名字:\")\n",
    "namePart:list[str] = random.choices(nameList,k=numbers)\n",
    "print(namePart)"
   ]
  },
  {
   "cell_type": "code",
   "execution_count": 3,
   "metadata": {},
   "outputs": [
    {
     "data": {
      "text/plain": [
       "[56, 78, 92, 87, 95]"
      ]
     },
     "execution_count": 3,
     "metadata": {},
     "output_type": "execute_result"
    }
   ],
   "source": [
    "[56,78,92,87,95]"
   ]
  },
  {
   "cell_type": "code",
   "execution_count": 6,
   "metadata": {},
   "outputs": [
    {
     "data": {
      "text/plain": [
       "[74, 64, 63, 71, 92]"
      ]
     },
     "execution_count": 6,
     "metadata": {},
     "output_type": "execute_result"
    }
   ],
   "source": [
    "import random\n",
    "[random.randint(40,100),random.randint(40,100),random.randint(40,100),random.randint(40,100),random.randint(40,100)]"
   ]
  },
  {
   "cell_type": "code",
   "execution_count": 7,
   "metadata": {},
   "outputs": [
    {
     "data": {
      "text/plain": [
       "[99, 58, 44, 53, 63]"
      ]
     },
     "execution_count": 7,
     "metadata": {},
     "output_type": "execute_result"
    }
   ],
   "source": [
    "stu:list[int] = []\n",
    "scores_nums:int = 5\n",
    "for i in range(scores_nums):\n",
    "    stu.append(random.randint(40,100))\n",
    "stu"
   ]
  },
  {
   "cell_type": "code",
   "execution_count": 8,
   "metadata": {},
   "outputs": [
    {
     "name": "stdout",
     "output_type": "stream",
     "text": [
      "請輸入學生的人數(1~50):"
     ]
    },
    {
     "data": {
      "text/plain": [
       "['陳冠霞',\n",
       " '張俊傑',\n",
       " '孫宜珊',\n",
       " '王怡珊',\n",
       " '林康亮',\n",
       " '蔡偉成',\n",
       " '王雅慧',\n",
       " '黃佩玲',\n",
       " '王雅慧',\n",
       " '彭偉妃',\n",
       " '郭淑枝',\n",
       " '謝水儒',\n",
       " '陳家年',\n",
       " '黃善迪',\n",
       " '王明昇',\n",
       " '馮淑芬',\n",
       " '劉旭士',\n",
       " '林志喜',\n",
       " '陳慧君',\n",
       " '朱士弘']"
      ]
     },
     "execution_count": 8,
     "metadata": {},
     "output_type": "execute_result"
    }
   ],
   "source": [
    "student_nums:int = pyip.inputInt(\"請輸入學生的人數(1~50):\",min=1,max=50)\n",
    "names:list[str] = random.choices(nameList,k=student_nums)\n",
    "names"
   ]
  },
  {
   "cell_type": "code",
   "execution_count": 11,
   "metadata": {},
   "outputs": [
    {
     "name": "stdout",
     "output_type": "stream",
     "text": [
      "請輸入學生的人數(1~50):5\n",
      "請輸入科目數(1~7):5\n"
     ]
    },
    {
     "data": {
      "text/plain": [
       "[['蒙淑惠', 70, 62, 64, 81, 56],\n",
       " ['葉軍仰', 97, 89, 89, 54, 43],\n",
       " ['唐雪豪', 51, 51, 72, 57, 81],\n",
       " ['葉志峰', 87, 40, 58, 60, 43],\n",
       " ['楊易政', 52, 72, 46, 89, 56]]"
      ]
     },
     "execution_count": 11,
     "metadata": {},
     "output_type": "execute_result"
    }
   ],
   "source": [
    "student_nums:int = pyip.inputInt(\"請輸入學生的人數(1~50):\",min=1,max=50)\n",
    "print(student_nums)\n",
    "scores_nums:int = pyip.inputInt(\"請輸入科目數(1~7):\",min=1,max=7)\n",
    "print(scores_nums)\n",
    "\n",
    "students:list[list] = []\n",
    "\n",
    "names:list[str] = random.choices(nameList,k=student_nums)\n",
    "for name in names:\n",
    "    stu:list[int|str] = []\n",
    "    stu.append(name)\n",
    "    for i in range(scores_nums):\n",
    "        stu.append(random.randint(40,100))\n",
    "    students.append(stu)\n",
    "    \n",
    "students"
   ]
  }
 ],
 "metadata": {
  "kernelspec": {
   "display_name": "Python 3",
   "language": "python",
   "name": "python3"
  },
  "language_info": {
   "codemirror_mode": {
    "name": "ipython",
    "version": 3
   },
   "file_extension": ".py",
   "mimetype": "text/x-python",
   "name": "python",
   "nbconvert_exporter": "python",
   "pygments_lexer": "ipython3",
   "version": "3.10.13"
  }
 },
 "nbformat": 4,
 "nbformat_minor": 2
}
