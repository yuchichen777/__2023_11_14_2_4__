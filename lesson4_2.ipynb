{
 "cells": [
  {
   "cell_type": "code",
   "execution_count": 1,
   "metadata": {},
   "outputs": [
    {
     "name": "stdout",
     "output_type": "stream",
     "text": [
      "Hello! World!\n"
     ]
    }
   ],
   "source": [
    "print(\"Hello! World!\")"
   ]
  },
  {
   "cell_type": "code",
   "execution_count": 2,
   "metadata": {},
   "outputs": [
    {
     "name": "stdout",
     "output_type": "stream",
     "text": [
      "請是true的程式區塊\n",
      "大於18\n",
      "程式結束\n"
     ]
    }
   ],
   "source": [
    "#if的單向選擇\n",
    "\n",
    "a = 21\n",
    "if a > 18:\n",
    "    print(\"請是true的程式區塊\")\n",
    "    print(\"大於18\")\n",
    "print(\"程式結束\")"
   ]
  },
  {
   "cell_type": "code",
   "execution_count": 3,
   "metadata": {},
   "outputs": [
    {
     "name": "stdout",
     "output_type": "stream",
     "text": [
      "程式結束\n"
     ]
    }
   ],
   "source": [
    "a = 17\n",
    "if a > 18:\n",
    "    print(\"請是true的程式區塊\")\n",
    "    print(\"大於18\")\n",
    "print(\"程式結束\")"
   ]
  },
  {
   "cell_type": "code",
   "execution_count": 4,
   "metadata": {},
   "outputs": [
    {
     "name": "stdout",
     "output_type": "stream",
     "text": [
      "您已經成年\n",
      "您的age是:20\n"
     ]
    }
   ],
   "source": [
    "#雙向選擇\n",
    "\n",
    "age = int(input(\"請輸入age:\"))\n",
    "\n",
    "if age >= 18:\n",
    "    print(\"您已經成年\")    \n",
    "else:\n",
    "    print(\"您尚未成年\")\n",
    "\n",
    "print(f\"您的age是:{age}\")\n",
    "    "
   ]
  },
  {
   "cell_type": "code",
   "execution_count": 5,
   "metadata": {},
   "outputs": [
    {
     "name": "stdout",
     "output_type": "stream",
     "text": [
      "學生分數是315\n"
     ]
    }
   ],
   "source": [
    "#學生總分為300\n",
    "#有些學生可以加分5%\n",
    "\n",
    "scores = int(input(\"請輸入學生分數(最高300分):\"))\n",
    "is_add = input(\"學生是否符合加分條件?(y,n)\")\n",
    "\n",
    "if(is_add == \"y\"):\n",
    "    scores *= 1.05\n",
    "\n",
    "#print(f\"學生分數是{scores:.0f}\")\n",
    "#print(f\"學生分數是{int(scores)}\")\n",
    "print(f\"學生分數是{round(scores)}\")"
   ]
  }
 ],
 "metadata": {
  "kernelspec": {
   "display_name": "Python 3",
   "language": "python",
   "name": "python3"
  },
  "language_info": {
   "codemirror_mode": {
    "name": "ipython",
    "version": 3
   },
   "file_extension": ".py",
   "mimetype": "text/x-python",
   "name": "python",
   "nbconvert_exporter": "python",
   "pygments_lexer": "ipython3",
   "version": "3.10.13"
  }
 },
 "nbformat": 4,
 "nbformat_minor": 2
}
