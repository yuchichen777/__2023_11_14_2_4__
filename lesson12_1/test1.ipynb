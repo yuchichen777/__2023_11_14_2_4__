{
 "cells": [
  {
   "cell_type": "code",
   "execution_count": 1,
   "metadata": {},
   "outputs": [],
   "source": [
    "stu1 = {\n",
    "    '姓名':'陳怡伶',\n",
    "    '國文':89,\n",
    "    '英文':92,\n",
    "    '數學':83,\n",
    "    '地理':91,\n",
    "    '歷史':65,\n",
    "    }\n",
    "\n",
    "stu2 = {\n",
    "    '姓名':'馮芳如',\n",
    "    '國文':92,\n",
    "    '英文':75,\n",
    "    '數學':92,\n",
    "    '地理':89,\n",
    "    '歷史':77,\n",
    "    }"
   ]
  },
  {
   "cell_type": "code",
   "execution_count": 2,
   "metadata": {},
   "outputs": [
    {
     "data": {
      "text/plain": [
       "[{'姓名': '陳怡伶', '國文': 89, '英文': 92, '數學': 83, '地理': 91, '歷史': 65},\n",
       " {'姓名': '馮芳如', '國文': 92, '英文': 75, '數學': 92, '地理': 89, '歷史': 77}]"
      ]
     },
     "execution_count": 2,
     "metadata": {},
     "output_type": "execute_result"
    }
   ],
   "source": [
    "students = [stu1,stu2]\n",
    "students"
   ]
  },
  {
   "cell_type": "code",
   "execution_count": 8,
   "metadata": {},
   "outputs": [
    {
     "data": {
      "text/plain": [
       "[{'姓名': '張軒宸', '國文': 74, '英文': 98, '數學': 49, '地理': 68, '歷史': 74},\n",
       " {'姓名': '翁鈺婷', '國文': 58, '英文': 74, '數學': 78, '地理': 72, '歷史': 92},\n",
       " {'姓名': '王怡君', '國文': 83, '英文': 95, '數學': 80, '地理': 66, '歷史': 68},\n",
       " {'姓名': '傅佳琳', '國文': 48, '英文': 95, '數學': 71, '地理': 62, '歷史': 89},\n",
       " {'姓名': '林佳光', '國文': 48, '英文': 97, '數學': 89, '地理': 77, '歷史': 86}]"
      ]
     },
     "execution_count": 8,
     "metadata": {},
     "output_type": "execute_result"
    }
   ],
   "source": [
    "from random import randint,choices\n",
    "\n",
    "def getStudents(nums:int) -> list[dict]:\n",
    "    students=[]\n",
    "    with open('names.txt',mode='r',encoding='utf-8') as file:\n",
    "        names:str=file.read()\n",
    "    nameList:list[str] = names.split('\\n')    \n",
    "    names = choices(nameList,k=nums)\n",
    "    for i in range(nums):\n",
    "        stu = {\n",
    "        '姓名':names[i],\n",
    "        '國文':randint(45,100),\n",
    "        '英文':randint(45,100),\n",
    "        '數學':randint(45,100),\n",
    "        '地理':randint(45,100),\n",
    "        '歷史':randint(45,100),\n",
    "        }\n",
    "        students.append(stu)\n",
    "\n",
    "    return students\n",
    "\n",
    "getStudents(5)"
   ]
  },
  {
   "cell_type": "code",
   "execution_count": 9,
   "metadata": {},
   "outputs": [
    {
     "name": "stdout",
     "output_type": "stream",
     "text": [
      "請輸入學生的人數(1~50):10\n"
     ]
    },
    {
     "data": {
      "text/plain": [
       "[{'姓名': '陳得映', '國文': 91, '英文': 57, '數學': 74, '地理': 47, '歷史': 97},\n",
       " {'姓名': '林士凱', '國文': 94, '英文': 91, '數學': 74, '地理': 62, '歷史': 71},\n",
       " {'姓名': '李彥伸', '國文': 64, '英文': 63, '數學': 82, '地理': 48, '歷史': 50},\n",
       " {'姓名': '蔡嘉音', '國文': 56, '英文': 93, '數學': 75, '地理': 72, '歷史': 50},\n",
       " {'姓名': '陳冠霞', '國文': 88, '英文': 71, '數學': 98, '地理': 98, '歷史': 91},\n",
       " {'姓名': '唐翊修', '國文': 95, '英文': 50, '數學': 54, '地理': 57, '歷史': 62},\n",
       " {'姓名': '景歡燦', '國文': 96, '英文': 86, '數學': 65, '地理': 48, '歷史': 65},\n",
       " {'姓名': '楊少亮', '國文': 57, '英文': 53, '數學': 77, '地理': 84, '歷史': 96},\n",
       " {'姓名': '李雅怡', '國文': 70, '英文': 83, '數學': 89, '地理': 62, '歷史': 66},\n",
       " {'姓名': '余月修', '國文': 57, '英文': 58, '數學': 77, '地理': 47, '歷史': 58}]"
      ]
     },
     "execution_count": 9,
     "metadata": {},
     "output_type": "execute_result"
    }
   ],
   "source": [
    "import pyinputplus as pyip\n",
    "s_nums:int = pyip.inputInt(\"請輸入學生的人數(1~50):\",min=1,max=50)\n",
    "print(s_nums)\n",
    "students = getStudents(s_nums)\n",
    "students"
   ]
  },
  {
   "cell_type": "code",
   "execution_count": 10,
   "metadata": {},
   "outputs": [
    {
     "name": "stdout",
     "output_type": "stream",
     "text": [
      "寫入成功\n"
     ]
    }
   ],
   "source": [
    "import csv\n",
    "with open(\"class1.csv\",mode='w',encoding='utf-8',newline='') as file:\n",
    "    fieldnames = ['姓名', '國文', '英文', '數學', '地理', '歷史']\n",
    "    writer = csv.DictWriter(file,fieldnames=fieldnames)\n",
    "    writer.writeheader()\n",
    "    writer.writerows(students)\n",
    "print(\"寫入成功\")"
   ]
  },
  {
   "cell_type": "code",
   "execution_count": 11,
   "metadata": {},
   "outputs": [
    {
     "name": "stdout",
     "output_type": "stream",
     "text": [
      "寫入成功\n"
     ]
    }
   ],
   "source": [
    "import csv\n",
    "from csv import DictWriter\n",
    "\n",
    "def save_to_csv(students:list[dict]):\n",
    "    with open(\"class1.csv\",mode='w',encoding='utf-8',newline='') as file:\n",
    "        fieldnames:list[str] = ['姓名', '國文', '英文', '數學', '地理', '歷史']\n",
    "        writer:DictWriter = csv.DictWriter(file,fieldnames=fieldnames)\n",
    "        writer.writeheader()\n",
    "        writer.writerows(students)\n",
    "    print(\"寫入成功\")\n",
    "\n",
    "save_to_csv(students)"
   ]
  },
  {
   "cell_type": "code",
   "execution_count": 13,
   "metadata": {},
   "outputs": [
    {
     "name": "stdout",
     "output_type": "stream",
     "text": [
      "寫入成功\n"
     ]
    }
   ],
   "source": [
    "import csv\n",
    "from csv import DictWriter\n",
    "\n",
    "def save_to_csv(students:list[dict],fileName:str)->None:    \n",
    "    fileNameWithExtension:str = fileName + '.csv'\n",
    "    with open(fileNameWithExtension,mode='w',encoding='utf-8',newline='') as file:\n",
    "        fieldnames:list[str] = ['姓名', '國文', '英文', '數學', '地理', '歷史']\n",
    "        writer:DictWriter = csv.DictWriter(file,fieldnames=fieldnames)\n",
    "        writer.writeheader()\n",
    "        writer.writerows(students)\n",
    "    print(\"寫入成功\")\n",
    "\n",
    "save_to_csv(students,'class2')    \n"
   ]
  }
 ],
 "metadata": {
  "kernelspec": {
   "display_name": "Python 3",
   "language": "python",
   "name": "python3"
  },
  "language_info": {
   "codemirror_mode": {
    "name": "ipython",
    "version": 3
   },
   "file_extension": ".py",
   "mimetype": "text/x-python",
   "name": "python",
   "nbconvert_exporter": "python",
   "pygments_lexer": "ipython3",
   "version": "3.10.13"
  }
 },
 "nbformat": 4,
 "nbformat_minor": 2
}
