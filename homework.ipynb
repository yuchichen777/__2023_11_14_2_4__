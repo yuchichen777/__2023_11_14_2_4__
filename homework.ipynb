{
 "cells": [
  {
   "cell_type": "code",
   "execution_count": 7,
   "metadata": {},
   "outputs": [
    {
     "name": "stdout",
     "output_type": "stream",
     "text": [
      "請輸入購買金額:100000\n",
      "實付金額是:80000.0 元\n"
     ]
    }
   ],
   "source": [
    "#輸入顧客購買金額，若金額在\n",
    "#100000元打8折.\n",
    "#50000打85折.\n",
    "#30000打9折.\n",
    "#10000打95折.\n",
    "#輸出的結果\n",
    "#請輸入購買金額:130000\n",
    "#實付金額是: 104000.0 元\n",
    "import pyinputplus as pyip\n",
    "\n",
    "price = pyip.inputInt(\"請輸入購買金額:\",min=0)\n",
    "print(price)\n",
    "#多項選擇\n",
    "if price >= 100000:\n",
    "    print(f\"實付金額是:{price*0.8:.1f} 元\")\n",
    "elif price >= 50000:    \n",
    "    print(f\"實付金額是:{price*0.85:.1f} 元\")\n",
    "elif price >= 30000:\n",
    "    print(f\"實付金額是:{price*0.9:.1f} 元\")\n",
    "elif price >= 10000:\n",
    "    print(f\"實付金額是:{price*0.95:.1f} 元\")\n",
    "else:\n",
    "    print(f\"實付金額是:{price:.1f} 元\")"
   ]
  },
  {
   "cell_type": "code",
   "execution_count": 13,
   "metadata": {},
   "outputs": [
    {
     "name": "stdout",
     "output_type": "stream",
     "text": [
      "請輸入身高,單位為(公分):167\n",
      "請輸入體重,單位為(公斤):50\n",
      "您的BMI是17.92822\n",
      "您的體重過輕\n"
     ]
    }
   ],
   "source": [
    "#請依據 BMI 值分析他人的身體狀況\n",
    "#請輸入身高,單位為(公分):177\n",
    "#請輸入體重,單位為(公斤):80\n",
    "\n",
    "#您的BMI是25.53544\n",
    "#「您的體重過重」\n",
    "import pyinputplus as pyip\n",
    "\n",
    "height = pyip.inputInt(\"請輸入身高,單位為(公分):\",min=0)\n",
    "print(height)\n",
    "weight = pyip.inputInt(\"請輸入體重,單位為(公斤):\",min=0)\n",
    "print(weight)\n",
    "bmi = weight/((height/100)**2)\n",
    "print(f\"您的BMI是{bmi:.5f}\")\n",
    "\n",
    "#多項選擇\n",
    "if bmi >= 35:\n",
    "    print(f\"您的體重重度肥胖\")\n",
    "elif bmi >= 30:    \n",
    "    print(f\"您的體重中度肥胖\")\n",
    "elif bmi >= 27:\n",
    "    print(f\"您的體重輕度肥胖\")\n",
    "elif bmi >= 24:\n",
    "    print(f\"您的體重過重\")\n",
    "elif bmi >= 18.5:\n",
    "    print(f\"您的體重正常\")    \n",
    "else:\n",
    "    print(f\"您的體重過輕\")\n"
   ]
  },
  {
   "cell_type": "code",
   "execution_count": 28,
   "metadata": {},
   "outputs": [
    {
     "name": "stdout",
     "output_type": "stream",
     "text": [
      "請輸入整數，求所有因數:20\n",
      "20的因數有[1, 2, 4, 5, 10, 20]\n"
     ]
    }
   ],
   "source": [
    "#求所有因數\n",
    "import pyinputplus as pyip\n",
    "\n",
    "num = pyip.inputInt(\"請輸入整數，求所有因數:\")\n",
    "print(num)\n",
    "i = 1\n",
    "numList = []\n",
    "while i <= num:\n",
    "    if(num%i==0):\n",
    "        numList.append(i)\n",
    "    i+=1\n",
    "\n",
    "print(f\"{num}的因數有{numList}\")"
   ]
  }
 ],
 "metadata": {
  "kernelspec": {
   "display_name": "Python 3",
   "language": "python",
   "name": "python3"
  },
  "language_info": {
   "codemirror_mode": {
    "name": "ipython",
    "version": 3
   },
   "file_extension": ".py",
   "mimetype": "text/x-python",
   "name": "python",
   "nbconvert_exporter": "python",
   "pygments_lexer": "ipython3",
   "version": "3.10.13"
  }
 },
 "nbformat": 4,
 "nbformat_minor": 2
}
