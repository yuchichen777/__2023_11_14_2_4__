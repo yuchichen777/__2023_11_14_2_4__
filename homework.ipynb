{
 "cells": [
  {
   "cell_type": "code",
   "execution_count": 7,
   "metadata": {},
   "outputs": [
    {
     "name": "stdout",
     "output_type": "stream",
     "text": [
      "請輸入購買金額:100000\n",
      "實付金額是:80000.0 元\n"
     ]
    }
   ],
   "source": [
    "#輸入顧客購買金額，若金額在\n",
    "#100000元打8折.\n",
    "#50000打85折.\n",
    "#30000打9折.\n",
    "#10000打95折.\n",
    "#輸出的結果\n",
    "#請輸入購買金額:130000\n",
    "#實付金額是: 104000.0 元\n",
    "import pyinputplus as pyip\n",
    "\n",
    "price = pyip.inputInt(\"請輸入購買金額:\",min=0)\n",
    "print(price)\n",
    "#多項選擇\n",
    "if price >= 100000:\n",
    "    print(f\"實付金額是:{price*0.8:.1f} 元\")\n",
    "elif price >= 50000:    \n",
    "    print(f\"實付金額是:{price*0.85:.1f} 元\")\n",
    "elif price >= 30000:\n",
    "    print(f\"實付金額是:{price*0.9:.1f} 元\")\n",
    "elif price >= 10000:\n",
    "    print(f\"實付金額是:{price*0.95:.1f} 元\")\n",
    "else:\n",
    "    print(f\"實付金額是:{price:.1f} 元\")"
   ]
  },
  {
   "cell_type": "code",
   "execution_count": 13,
   "metadata": {},
   "outputs": [
    {
     "name": "stdout",
     "output_type": "stream",
     "text": [
      "請輸入身高,單位為(公分):167\n",
      "請輸入體重,單位為(公斤):50\n",
      "您的BMI是17.92822\n",
      "您的體重過輕\n"
     ]
    }
   ],
   "source": [
    "#請依據 BMI 值分析他人的身體狀況\n",
    "#請輸入身高,單位為(公分):177\n",
    "#請輸入體重,單位為(公斤):80\n",
    "\n",
    "#您的BMI是25.53544\n",
    "#「您的體重過重」\n",
    "import pyinputplus as pyip\n",
    "\n",
    "height = pyip.inputInt(\"請輸入身高,單位為(公分):\",min=0)\n",
    "print(height)\n",
    "weight = pyip.inputInt(\"請輸入體重,單位為(公斤):\",min=0)\n",
    "print(weight)\n",
    "bmi = weight/((height/100)**2)\n",
    "print(f\"您的BMI是{bmi:.5f}\")\n",
    "\n",
    "#多項選擇\n",
    "if bmi >= 35:\n",
    "    print(f\"您的體重重度肥胖\")\n",
    "elif bmi >= 30:    \n",
    "    print(f\"您的體重中度肥胖\")\n",
    "elif bmi >= 27:\n",
    "    print(f\"您的體重輕度肥胖\")\n",
    "elif bmi >= 24:\n",
    "    print(f\"您的體重過重\")\n",
    "elif bmi >= 18.5:\n",
    "    print(f\"您的體重正常\")    \n",
    "else:\n",
    "    print(f\"您的體重過輕\")\n"
   ]
  },
  {
   "cell_type": "code",
   "execution_count": 28,
   "metadata": {},
   "outputs": [
    {
     "name": "stdout",
     "output_type": "stream",
     "text": [
      "請輸入整數，求所有因數:20\n",
      "20的因數有[1, 2, 4, 5, 10, 20]\n"
     ]
    }
   ],
   "source": [
    "#求所有因數\n",
    "import pyinputplus as pyip\n",
    "\n",
    "num = pyip.inputInt(\"請輸入整數，求所有因數:\")\n",
    "print(num)\n",
    "i = 1\n",
    "numList = []\n",
    "while i <= num:\n",
    "    if(num%i==0):\n",
    "        numList.append(i)\n",
    "    i+=1\n",
    "\n",
    "print(f\"{num}的因數有{numList}\")"
   ]
  },
  {
   "cell_type": "code",
   "execution_count": 4,
   "metadata": {},
   "outputs": [
    {
     "name": "stdout",
     "output_type": "stream",
     "text": [
      "qq格式錯誤\n",
      "qUIT格式錯誤\n",
      "應用程式結束\n"
     ]
    }
   ],
   "source": [
    "#顯示:\n",
    "#奇數輸出平方\n",
    "#偶數不做任何動作\n",
    "#'q'要離開\n",
    "quitList=['q','Q','quit','Quit','QUIT']\n",
    "\n",
    "while(True):\n",
    "    value = input(\"請輸入整數,輸入[q]離開:\")\n",
    "    \n",
    "    if value in quitList:\n",
    "        break\n",
    "    \n",
    "    try:\n",
    "        valueInt = int(value)\n",
    "    except:\n",
    "        print(f\"{value}格式錯誤\")\n",
    "        continue\n",
    "    \n",
    "    if valueInt % 2 == 1:\n",
    "        print(f\"{valueInt}的平方是{valueInt ** 2}\")\n",
    "    else:\n",
    "        print(\"不做事\")\n",
    "\n",
    "print(\"應用程式結束\")"
   ]
  },
  {
   "cell_type": "code",
   "execution_count": 2,
   "metadata": {},
   "outputs": [
    {
     "name": "stdout",
     "output_type": "stream",
     "text": [
      "請輸入身高，單位為公分:150.0\n",
      "請輸入體重，單位為公斤:40.0\n",
      "您的BMI是17.78,「您的體重過輕」\n",
      "還要繼續嗎?(y,n):\n",
      "請輸入身高，單位為公分:177.0\n",
      "請輸入體重，單位為公斤:50.0\n",
      "您的BMI是15.96,「您的體重過輕」\n",
      "還要繼續嗎?(y,n):程式結束\n"
     ]
    }
   ],
   "source": [
    "import pyinputplus as pyip\n",
    "\n",
    "def getBMI(height:float, weight:float) -> tuple[float,str]:\n",
    "    BMI = weight / (height*0.01)**2\n",
    "    message = \"\"\n",
    "    if BMI < 18.5:\n",
    "        message = \"「您的體重過輕」\"\n",
    "    elif BMI < 24:        \n",
    "        message = \"「您的體重正常」\"\n",
    "    \n",
    "    elif BMI < 27:        \n",
    "        message = \"「您的體重過重」\"\n",
    "\n",
    "    elif BMI < 30:        \n",
    "        message = \"「您的體重輕度肥胖」\"\n",
    "\n",
    "    elif BMI < 35:        \n",
    "        message = \"「您的體重中度肥胖」\"\n",
    "\n",
    "    else:        \n",
    "        message = \"「您的體重重度肥胖」\"\n",
    "\n",
    "    return (BMI,message)\n",
    "\n",
    "    \n",
    "while(True):\n",
    "    h = pyip.inputFloat(\"請輸入身高，單位為公分:\",min = 0)\n",
    "    print(h)\n",
    "    w = pyip.inputFloat(\"請輸入體重，單位為公斤:\",min = 0)\n",
    "    print(w)\n",
    "    bmi, message = getBMI(height=h,weight=w)\n",
    "    print(f\"您的BMI是{bmi:.2f},{message}\")\n",
    "    print()\n",
    "    \n",
    "    q = pyip.inputYesNo(\"還要繼續嗎?(y,n):\")\n",
    "    if q == 'yes':\n",
    "        continue\n",
    "    else: \n",
    "        print('程式結束')\n",
    "        break\n",
    "        \n",
    "    \n",
    "\n"
   ]
  }
 ],
 "metadata": {
  "kernelspec": {
   "display_name": "Python 3",
   "language": "python",
   "name": "python3"
  },
  "language_info": {
   "codemirror_mode": {
    "name": "ipython",
    "version": 3
   },
   "file_extension": ".py",
   "mimetype": "text/x-python",
   "name": "python",
   "nbconvert_exporter": "python",
   "pygments_lexer": "ipython3",
   "version": "3.10.13"
  }
 },
 "nbformat": 4,
 "nbformat_minor": 2
}
