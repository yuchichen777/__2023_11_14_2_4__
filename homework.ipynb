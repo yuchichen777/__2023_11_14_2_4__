{
 "cells": [
  {
   "cell_type": "code",
   "execution_count": 7,
   "metadata": {},
   "outputs": [
    {
     "name": "stdout",
     "output_type": "stream",
     "text": [
      "請輸入購買金額:100000\n",
      "實付金額是:80000.0 元\n"
     ]
    }
   ],
   "source": [
    "#輸入顧客購買金額，若金額在\n",
    "#100000元打8折.\n",
    "#50000打85折.\n",
    "#30000打9折.\n",
    "#10000打95折.\n",
    "#輸出的結果\n",
    "#請輸入購買金額:130000\n",
    "#實付金額是: 104000.0 元\n",
    "import pyinputplus as pyip\n",
    "\n",
    "price = pyip.inputInt(\"請輸入購買金額:\",min=0)\n",
    "print(price)\n",
    "#多項選擇\n",
    "if price >= 100000:\n",
    "    print(f\"實付金額是:{price*0.8:.1f} 元\")\n",
    "elif price >= 50000:    \n",
    "    print(f\"實付金額是:{price*0.85:.1f} 元\")\n",
    "elif price >= 30000:\n",
    "    print(f\"實付金額是:{price*0.9:.1f} 元\")\n",
    "elif price >= 10000:\n",
    "    print(f\"實付金額是:{price*0.95:.1f} 元\")\n",
    "else:\n",
    "    print(f\"實付金額是:{price:.1f} 元\")"
   ]
  }
 ],
 "metadata": {
  "kernelspec": {
   "display_name": "Python 3",
   "language": "python",
   "name": "python3"
  },
  "language_info": {
   "codemirror_mode": {
    "name": "ipython",
    "version": 3
   },
   "file_extension": ".py",
   "mimetype": "text/x-python",
   "name": "python",
   "nbconvert_exporter": "python",
   "pygments_lexer": "ipython3",
   "version": "3.10.13"
  }
 },
 "nbformat": 4,
 "nbformat_minor": 2
}
