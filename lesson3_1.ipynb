{
 "cells": [
  {
   "cell_type": "code",
   "execution_count": 1,
   "metadata": {},
   "outputs": [
    {
     "data": {
      "text/plain": [
       "15"
      ]
     },
     "execution_count": 1,
     "metadata": {},
     "output_type": "execute_result"
    }
   ],
   "source": [
    "n = 5\n",
    "m = 10\n",
    "total = n + m\n",
    "total"
   ]
  },
  {
   "cell_type": "code",
   "execution_count": 3,
   "metadata": {},
   "outputs": [
    {
     "ename": "ValueError",
     "evalue": "invalid literal for int() with base 10: '3.15'",
     "output_type": "error",
     "traceback": [
      "\u001b[0;31m---------------------------------------------------------------------------\u001b[0m",
      "\u001b[0;31mValueError\u001b[0m                                Traceback (most recent call last)",
      "\u001b[1;32m/workspaces/__2023_11_14_2_4__/lesson3_1.ipynb Cell 2\u001b[0m line \u001b[0;36m2\n\u001b[1;32m      <a href='vscode-notebook-cell://codespaces%2Burban-space-couscous-xpj95wwp4vx2rgr/workspaces/__2023_11_14_2_4__/lesson3_1.ipynb#W1sdnNjb2RlLXJlbW90ZQ%3D%3D?line=0'>1</a>\u001b[0m \u001b[39m#使用input(),請使用者自行輸入值\u001b[39;00m\n\u001b[0;32m----> <a href='vscode-notebook-cell://codespaces%2Burban-space-couscous-xpj95wwp4vx2rgr/workspaces/__2023_11_14_2_4__/lesson3_1.ipynb#W1sdnNjb2RlLXJlbW90ZQ%3D%3D?line=1'>2</a>\u001b[0m n \u001b[39m=\u001b[39m \u001b[39mint\u001b[39;49m(\u001b[39minput\u001b[39;49m(\u001b[39m'\u001b[39;49m\u001b[39m請輸入n的值:\u001b[39;49m\u001b[39m'\u001b[39;49m))\n\u001b[1;32m      <a href='vscode-notebook-cell://codespaces%2Burban-space-couscous-xpj95wwp4vx2rgr/workspaces/__2023_11_14_2_4__/lesson3_1.ipynb#W1sdnNjb2RlLXJlbW90ZQ%3D%3D?line=2'>3</a>\u001b[0m m \u001b[39m=\u001b[39m \u001b[39mint\u001b[39m(\u001b[39minput\u001b[39m(\u001b[39m'\u001b[39m\u001b[39m請輸入m的值:\u001b[39m\u001b[39m'\u001b[39m))\n\u001b[1;32m      <a href='vscode-notebook-cell://codespaces%2Burban-space-couscous-xpj95wwp4vx2rgr/workspaces/__2023_11_14_2_4__/lesson3_1.ipynb#W1sdnNjb2RlLXJlbW90ZQ%3D%3D?line=3'>4</a>\u001b[0m total \u001b[39m=\u001b[39m n \u001b[39m+\u001b[39m m\n",
      "\u001b[0;31mValueError\u001b[0m: invalid literal for int() with base 10: '3.15'"
     ]
    }
   ],
   "source": [
    "#使用input(),請使用者自行輸入值\n",
    "n = int(input('請輸入n的值:'))\n",
    "m = int(input('請輸入m的值:'))\n",
    "total = n + m\n",
    "total"
   ]
  },
  {
   "cell_type": "code",
   "execution_count": 4,
   "metadata": {},
   "outputs": [
    {
     "data": {
      "text/plain": [
       "7.35"
      ]
     },
     "execution_count": 4,
     "metadata": {},
     "output_type": "execute_result"
    }
   ],
   "source": [
    "#使用input(),請使用者自行輸入值\n",
    "n = eval(input('請輸入n的值:'))\n",
    "m = eval(input('請輸入m的值:'))\n",
    "total = n + m\n",
    "total"
   ]
  }
 ],
 "metadata": {
  "kernelspec": {
   "display_name": "Python 3",
   "language": "python",
   "name": "python3"
  },
  "language_info": {
   "codemirror_mode": {
    "name": "ipython",
    "version": 3
   },
   "file_extension": ".py",
   "mimetype": "text/x-python",
   "name": "python",
   "nbconvert_exporter": "python",
   "pygments_lexer": "ipython3",
   "version": "3.10.13"
  }
 },
 "nbformat": 4,
 "nbformat_minor": 2
}
